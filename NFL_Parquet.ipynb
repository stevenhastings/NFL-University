{
  "nbformat": 4,
  "nbformat_minor": 0,
  "metadata": {
    "colab": {
      "provenance": [],
      "collapsed_sections": [],
      "mount_file_id": "1IgGS0Ip0-IBWOe85M4HIV0lWofmCis90",
      "authorship_tag": "ABX9TyPtzwde2xiBKkz4Ft3WC7Tw",
      "include_colab_link": true
    },
    "kernelspec": {
      "name": "python3",
      "display_name": "Python 3"
    },
    "language_info": {
      "name": "python"
    },
    "accelerator": "GPU",
    "gpuClass": "standard"
  },
  "cells": [
    {
      "cell_type": "markdown",
      "metadata": {
        "id": "view-in-github",
        "colab_type": "text"
      },
      "source": [
        "<a href=\"https://colab.research.google.com/github/stevenhastings/NFL-University/blob/main/NFL_Parquet.ipynb\" target=\"_parent\"><img src=\"https://colab.research.google.com/assets/colab-badge.svg\" alt=\"Open In Colab\"/></a>"
      ]
    },
    {
      "cell_type": "code",
      "source": [
        "%%capture\n",
        "\n",
        "# %pip install pandas pyarrow\n",
        "%pip install pyspark\n",
        "%pip install findspark\n",
        "%pip install java"
      ],
      "metadata": {
        "id": "pCjIyBBRcFLM"
      },
      "execution_count": 1,
      "outputs": []
    },
    {
      "cell_type": "code",
      "source": [
        "import pandas as pd\n",
        "import json\n",
        "# import pyarrow as pa \n",
        "# import pyarrow.parquet as pq\n",
        "# import dask.dataframe as dd\n",
        "import pyspark\n",
        "import findspark\n",
        "# import configparser\n",
        "# import psycopg2 \n",
        "import matplotlib.pyplot as plt \n",
        "import matplotlib.patches as patches \n",
        "from matplotlib.animation import FuncAnimation\n",
        "\n",
        "from pyspark.sql import SparkSession\n",
        "from pyspark.sql.types import *\n",
        "\n",
        "import numpy as np \n",
        "import seaborn as sns \n",
        "\n",
        "# from sklearn.model_selection import GroupKFold\n",
        "# from sklearn.linear_model import LogisticRegression\n",
        "\n",
        "# from scipy.spatial.distance import pdist, squareform\n",
        "# from scipy.stats import pearsonr"
      ],
      "metadata": {
        "id": "InzpkSpebK31"
      },
      "execution_count": 2,
      "outputs": []
    },
    {
      "cell_type": "code",
      "source": [
        "# config = configparser.ConfigParser()\n",
        "# config.read()"
      ],
      "metadata": {
        "id": "cm9PUH2xfL27"
      },
      "execution_count": 3,
      "outputs": []
    },
    {
      "cell_type": "code",
      "source": [
        "games = pd.read_csv(\"/content/drive/MyDrive/NFL_DATA/data/games.csv\")\n",
        "players = pd.read_csv(\"/content/drive/MyDrive/NFL_DATA/data/players.csv\")\n",
        "scout = pd.read_csv(\"/content/drive/MyDrive/NFL_DATA/data/pffScoutingData.csv\")\n",
        "plays = pd.read_csv(\"/content/drive/MyDrive/NFL_DATA/data/plays.csv\")"
      ],
      "metadata": {
        "id": "nhIbM8BXBpLb"
      },
      "execution_count": 4,
      "outputs": []
    },
    {
      "cell_type": "code",
      "source": [
        "week1 = pd.read_csv(\"/content/drive/MyDrive/NFL_DATA/data/tracking_data/week1.csv\")\n",
        "week2 = pd.read_csv(\"/content/drive/MyDrive/NFL_DATA/data/tracking_data/week2.csv\")\n",
        "week3 = pd.read_csv(\"/content/drive/MyDrive/NFL_DATA/data/tracking_data/week3.csv\")\n",
        "week4 = pd.read_csv(\"/content/drive/MyDrive/NFL_DATA/data/tracking_data/week4.csv\")\n",
        "week5 = pd.read_csv(\"/content/drive/MyDrive/NFL_DATA/data/tracking_data/week5.csv\")\n",
        "week6 = pd.read_csv(\"/content/drive/MyDrive/NFL_DATA/data/tracking_data/week6.csv\")\n",
        "week7 = pd.read_csv(\"/content/drive/MyDrive/NFL_DATA/data/tracking_data/week7.csv\")\n",
        "week8 = pd.read_csv(\"/content/drive/MyDrive/NFL_DATA/data/tracking_data/week8.csv\")\n",
        "weeks = pd.concat([week1, week2, week3, week4, week5, week6, week7, week8])\n",
        "weeks.info()"
      ],
      "metadata": {
        "colab": {
          "base_uri": "https://localhost:8080/"
        },
        "id": "b9Wb0BoMDgiF",
        "outputId": "0e677127-c864-47a8-ad35-85c5ad173901"
      },
      "execution_count": 5,
      "outputs": [
        {
          "output_type": "stream",
          "name": "stdout",
          "text": [
            "<class 'pandas.core.frame.DataFrame'>\n",
            "Int64Index: 8314178 entries, 0 to 978948\n",
            "Data columns (total 16 columns):\n",
            " #   Column         Dtype  \n",
            "---  ------         -----  \n",
            " 0   gameId         int64  \n",
            " 1   playId         int64  \n",
            " 2   nflId          float64\n",
            " 3   frameId        int64  \n",
            " 4   time           object \n",
            " 5   jerseyNumber   float64\n",
            " 6   team           object \n",
            " 7   playDirection  object \n",
            " 8   x              float64\n",
            " 9   y              float64\n",
            " 10  s              float64\n",
            " 11  a              float64\n",
            " 12  dis            float64\n",
            " 13  o              float64\n",
            " 14  dir            float64\n",
            " 15  event          object \n",
            "dtypes: float64(9), int64(3), object(4)\n",
            "memory usage: 1.1+ GB\n"
          ]
        }
      ]
    },
    {
      "cell_type": "code",
      "source": [
        "pd.set_option('display.max_columns', 100)"
      ],
      "metadata": {
        "id": "bG_AaCv9NLg4"
      },
      "execution_count": 6,
      "outputs": []
    },
    {
      "cell_type": "code",
      "source": [
        "weeks = pd.merge(weeks, games, how='inner', on='gameId', validate='many_to_one')\n",
        "weeks.head()"
      ],
      "metadata": {
        "colab": {
          "base_uri": "https://localhost:8080/",
          "height": 357
        },
        "id": "tXmmhycDE_59",
        "outputId": "a8c6e68f-1cf0-4b7a-bb36-6cf918209c81"
      },
      "execution_count": 7,
      "outputs": [
        {
          "output_type": "execute_result",
          "data": {
            "text/plain": [
              "       gameId  playId    nflId  frameId                     time  \\\n",
              "0  2021090900      97  25511.0        1  2021-09-10T00:26:31.100   \n",
              "1  2021090900      97  25511.0        2  2021-09-10T00:26:31.200   \n",
              "2  2021090900      97  25511.0        3  2021-09-10T00:26:31.300   \n",
              "3  2021090900      97  25511.0        4  2021-09-10T00:26:31.400   \n",
              "4  2021090900      97  25511.0        5  2021-09-10T00:26:31.500   \n",
              "\n",
              "   jerseyNumber team playDirection      x      y     s     a   dis       o  \\\n",
              "0          12.0   TB         right  37.77  24.22  0.29  0.30  0.03  165.16   \n",
              "1          12.0   TB         right  37.78  24.22  0.23  0.11  0.02  164.33   \n",
              "2          12.0   TB         right  37.78  24.24  0.16  0.10  0.01  160.24   \n",
              "3          12.0   TB         right  37.73  24.25  0.15  0.24  0.06  152.13   \n",
              "4          12.0   TB         right  37.69  24.26  0.25  0.18  0.04  148.33   \n",
              "\n",
              "      dir event  season  week    gameDate gameTimeEastern homeTeamAbbr  \\\n",
              "0   84.99  None    2021     1  09/09/2021        20:20:00           TB   \n",
              "1   92.87  None    2021     1  09/09/2021        20:20:00           TB   \n",
              "2   68.55  None    2021     1  09/09/2021        20:20:00           TB   \n",
              "3  296.85  None    2021     1  09/09/2021        20:20:00           TB   \n",
              "4  287.55  None    2021     1  09/09/2021        20:20:00           TB   \n",
              "\n",
              "  visitorTeamAbbr  \n",
              "0             DAL  \n",
              "1             DAL  \n",
              "2             DAL  \n",
              "3             DAL  \n",
              "4             DAL  "
            ],
            "text/html": [
              "\n",
              "  <div id=\"df-51f80b41-36d7-463e-80b0-a8f8665bf814\">\n",
              "    <div class=\"colab-df-container\">\n",
              "      <div>\n",
              "<style scoped>\n",
              "    .dataframe tbody tr th:only-of-type {\n",
              "        vertical-align: middle;\n",
              "    }\n",
              "\n",
              "    .dataframe tbody tr th {\n",
              "        vertical-align: top;\n",
              "    }\n",
              "\n",
              "    .dataframe thead th {\n",
              "        text-align: right;\n",
              "    }\n",
              "</style>\n",
              "<table border=\"1\" class=\"dataframe\">\n",
              "  <thead>\n",
              "    <tr style=\"text-align: right;\">\n",
              "      <th></th>\n",
              "      <th>gameId</th>\n",
              "      <th>playId</th>\n",
              "      <th>nflId</th>\n",
              "      <th>frameId</th>\n",
              "      <th>time</th>\n",
              "      <th>jerseyNumber</th>\n",
              "      <th>team</th>\n",
              "      <th>playDirection</th>\n",
              "      <th>x</th>\n",
              "      <th>y</th>\n",
              "      <th>s</th>\n",
              "      <th>a</th>\n",
              "      <th>dis</th>\n",
              "      <th>o</th>\n",
              "      <th>dir</th>\n",
              "      <th>event</th>\n",
              "      <th>season</th>\n",
              "      <th>week</th>\n",
              "      <th>gameDate</th>\n",
              "      <th>gameTimeEastern</th>\n",
              "      <th>homeTeamAbbr</th>\n",
              "      <th>visitorTeamAbbr</th>\n",
              "    </tr>\n",
              "  </thead>\n",
              "  <tbody>\n",
              "    <tr>\n",
              "      <th>0</th>\n",
              "      <td>2021090900</td>\n",
              "      <td>97</td>\n",
              "      <td>25511.0</td>\n",
              "      <td>1</td>\n",
              "      <td>2021-09-10T00:26:31.100</td>\n",
              "      <td>12.0</td>\n",
              "      <td>TB</td>\n",
              "      <td>right</td>\n",
              "      <td>37.77</td>\n",
              "      <td>24.22</td>\n",
              "      <td>0.29</td>\n",
              "      <td>0.30</td>\n",
              "      <td>0.03</td>\n",
              "      <td>165.16</td>\n",
              "      <td>84.99</td>\n",
              "      <td>None</td>\n",
              "      <td>2021</td>\n",
              "      <td>1</td>\n",
              "      <td>09/09/2021</td>\n",
              "      <td>20:20:00</td>\n",
              "      <td>TB</td>\n",
              "      <td>DAL</td>\n",
              "    </tr>\n",
              "    <tr>\n",
              "      <th>1</th>\n",
              "      <td>2021090900</td>\n",
              "      <td>97</td>\n",
              "      <td>25511.0</td>\n",
              "      <td>2</td>\n",
              "      <td>2021-09-10T00:26:31.200</td>\n",
              "      <td>12.0</td>\n",
              "      <td>TB</td>\n",
              "      <td>right</td>\n",
              "      <td>37.78</td>\n",
              "      <td>24.22</td>\n",
              "      <td>0.23</td>\n",
              "      <td>0.11</td>\n",
              "      <td>0.02</td>\n",
              "      <td>164.33</td>\n",
              "      <td>92.87</td>\n",
              "      <td>None</td>\n",
              "      <td>2021</td>\n",
              "      <td>1</td>\n",
              "      <td>09/09/2021</td>\n",
              "      <td>20:20:00</td>\n",
              "      <td>TB</td>\n",
              "      <td>DAL</td>\n",
              "    </tr>\n",
              "    <tr>\n",
              "      <th>2</th>\n",
              "      <td>2021090900</td>\n",
              "      <td>97</td>\n",
              "      <td>25511.0</td>\n",
              "      <td>3</td>\n",
              "      <td>2021-09-10T00:26:31.300</td>\n",
              "      <td>12.0</td>\n",
              "      <td>TB</td>\n",
              "      <td>right</td>\n",
              "      <td>37.78</td>\n",
              "      <td>24.24</td>\n",
              "      <td>0.16</td>\n",
              "      <td>0.10</td>\n",
              "      <td>0.01</td>\n",
              "      <td>160.24</td>\n",
              "      <td>68.55</td>\n",
              "      <td>None</td>\n",
              "      <td>2021</td>\n",
              "      <td>1</td>\n",
              "      <td>09/09/2021</td>\n",
              "      <td>20:20:00</td>\n",
              "      <td>TB</td>\n",
              "      <td>DAL</td>\n",
              "    </tr>\n",
              "    <tr>\n",
              "      <th>3</th>\n",
              "      <td>2021090900</td>\n",
              "      <td>97</td>\n",
              "      <td>25511.0</td>\n",
              "      <td>4</td>\n",
              "      <td>2021-09-10T00:26:31.400</td>\n",
              "      <td>12.0</td>\n",
              "      <td>TB</td>\n",
              "      <td>right</td>\n",
              "      <td>37.73</td>\n",
              "      <td>24.25</td>\n",
              "      <td>0.15</td>\n",
              "      <td>0.24</td>\n",
              "      <td>0.06</td>\n",
              "      <td>152.13</td>\n",
              "      <td>296.85</td>\n",
              "      <td>None</td>\n",
              "      <td>2021</td>\n",
              "      <td>1</td>\n",
              "      <td>09/09/2021</td>\n",
              "      <td>20:20:00</td>\n",
              "      <td>TB</td>\n",
              "      <td>DAL</td>\n",
              "    </tr>\n",
              "    <tr>\n",
              "      <th>4</th>\n",
              "      <td>2021090900</td>\n",
              "      <td>97</td>\n",
              "      <td>25511.0</td>\n",
              "      <td>5</td>\n",
              "      <td>2021-09-10T00:26:31.500</td>\n",
              "      <td>12.0</td>\n",
              "      <td>TB</td>\n",
              "      <td>right</td>\n",
              "      <td>37.69</td>\n",
              "      <td>24.26</td>\n",
              "      <td>0.25</td>\n",
              "      <td>0.18</td>\n",
              "      <td>0.04</td>\n",
              "      <td>148.33</td>\n",
              "      <td>287.55</td>\n",
              "      <td>None</td>\n",
              "      <td>2021</td>\n",
              "      <td>1</td>\n",
              "      <td>09/09/2021</td>\n",
              "      <td>20:20:00</td>\n",
              "      <td>TB</td>\n",
              "      <td>DAL</td>\n",
              "    </tr>\n",
              "  </tbody>\n",
              "</table>\n",
              "</div>\n",
              "      <button class=\"colab-df-convert\" onclick=\"convertToInteractive('df-51f80b41-36d7-463e-80b0-a8f8665bf814')\"\n",
              "              title=\"Convert this dataframe to an interactive table.\"\n",
              "              style=\"display:none;\">\n",
              "        \n",
              "  <svg xmlns=\"http://www.w3.org/2000/svg\" height=\"24px\"viewBox=\"0 0 24 24\"\n",
              "       width=\"24px\">\n",
              "    <path d=\"M0 0h24v24H0V0z\" fill=\"none\"/>\n",
              "    <path d=\"M18.56 5.44l.94 2.06.94-2.06 2.06-.94-2.06-.94-.94-2.06-.94 2.06-2.06.94zm-11 1L8.5 8.5l.94-2.06 2.06-.94-2.06-.94L8.5 2.5l-.94 2.06-2.06.94zm10 10l.94 2.06.94-2.06 2.06-.94-2.06-.94-.94-2.06-.94 2.06-2.06.94z\"/><path d=\"M17.41 7.96l-1.37-1.37c-.4-.4-.92-.59-1.43-.59-.52 0-1.04.2-1.43.59L10.3 9.45l-7.72 7.72c-.78.78-.78 2.05 0 2.83L4 21.41c.39.39.9.59 1.41.59.51 0 1.02-.2 1.41-.59l7.78-7.78 2.81-2.81c.8-.78.8-2.07 0-2.86zM5.41 20L4 18.59l7.72-7.72 1.47 1.35L5.41 20z\"/>\n",
              "  </svg>\n",
              "      </button>\n",
              "      \n",
              "  <style>\n",
              "    .colab-df-container {\n",
              "      display:flex;\n",
              "      flex-wrap:wrap;\n",
              "      gap: 12px;\n",
              "    }\n",
              "\n",
              "    .colab-df-convert {\n",
              "      background-color: #E8F0FE;\n",
              "      border: none;\n",
              "      border-radius: 50%;\n",
              "      cursor: pointer;\n",
              "      display: none;\n",
              "      fill: #1967D2;\n",
              "      height: 32px;\n",
              "      padding: 0 0 0 0;\n",
              "      width: 32px;\n",
              "    }\n",
              "\n",
              "    .colab-df-convert:hover {\n",
              "      background-color: #E2EBFA;\n",
              "      box-shadow: 0px 1px 2px rgba(60, 64, 67, 0.3), 0px 1px 3px 1px rgba(60, 64, 67, 0.15);\n",
              "      fill: #174EA6;\n",
              "    }\n",
              "\n",
              "    [theme=dark] .colab-df-convert {\n",
              "      background-color: #3B4455;\n",
              "      fill: #D2E3FC;\n",
              "    }\n",
              "\n",
              "    [theme=dark] .colab-df-convert:hover {\n",
              "      background-color: #434B5C;\n",
              "      box-shadow: 0px 1px 3px 1px rgba(0, 0, 0, 0.15);\n",
              "      filter: drop-shadow(0px 1px 2px rgba(0, 0, 0, 0.3));\n",
              "      fill: #FFFFFF;\n",
              "    }\n",
              "  </style>\n",
              "\n",
              "      <script>\n",
              "        const buttonEl =\n",
              "          document.querySelector('#df-51f80b41-36d7-463e-80b0-a8f8665bf814 button.colab-df-convert');\n",
              "        buttonEl.style.display =\n",
              "          google.colab.kernel.accessAllowed ? 'block' : 'none';\n",
              "\n",
              "        async function convertToInteractive(key) {\n",
              "          const element = document.querySelector('#df-51f80b41-36d7-463e-80b0-a8f8665bf814');\n",
              "          const dataTable =\n",
              "            await google.colab.kernel.invokeFunction('convertToInteractive',\n",
              "                                                     [key], {});\n",
              "          if (!dataTable) return;\n",
              "\n",
              "          const docLinkHtml = 'Like what you see? Visit the ' +\n",
              "            '<a target=\"_blank\" href=https://colab.research.google.com/notebooks/data_table.ipynb>data table notebook</a>'\n",
              "            + ' to learn more about interactive tables.';\n",
              "          element.innerHTML = '';\n",
              "          dataTable['output_type'] = 'display_data';\n",
              "          await google.colab.output.renderOutput(dataTable, element);\n",
              "          const docLink = document.createElement('div');\n",
              "          docLink.innerHTML = docLinkHtml;\n",
              "          element.appendChild(docLink);\n",
              "        }\n",
              "      </script>\n",
              "    </div>\n",
              "  </div>\n",
              "  "
            ]
          },
          "metadata": {},
          "execution_count": 7
        }
      ]
    },
    {
      "cell_type": "code",
      "source": [
        "weeks = weeks.drop(columns=['gameTimeEastern', 'gameDate'])"
      ],
      "metadata": {
        "id": "cBsp6EL4cbIb"
      },
      "execution_count": null,
      "outputs": []
    },
    {
      "cell_type": "code",
      "source": [
        "weeks['advantage'] = weeks['team'] == weeks['homeTeamAbbr']\n",
        "weeks"
      ],
      "metadata": {
        "colab": {
          "base_uri": "https://localhost:8080/",
          "height": 661
        },
        "id": "VVe71_KMewzj",
        "outputId": "cb6e69b0-f24f-445f-9ee4-a7082d18f4fd"
      },
      "execution_count": 11,
      "outputs": [
        {
          "output_type": "execute_result",
          "data": {
            "text/plain": [
              "             gameId  playId    nflId  frameId                     time  \\\n",
              "0        2021090900      97  25511.0        1  2021-09-10T00:26:31.100   \n",
              "1        2021090900      97  25511.0        2  2021-09-10T00:26:31.200   \n",
              "2        2021090900      97  25511.0        3  2021-09-10T00:26:31.300   \n",
              "3        2021090900      97  25511.0        4  2021-09-10T00:26:31.400   \n",
              "4        2021090900      97  25511.0        5  2021-09-10T00:26:31.500   \n",
              "...             ...     ...      ...      ...                      ...   \n",
              "8314173  2021110100    4433      NaN       54  2021-11-02T03:20:26.500   \n",
              "8314174  2021110100    4433      NaN       55  2021-11-02T03:20:26.600   \n",
              "8314175  2021110100    4433      NaN       56  2021-11-02T03:20:26.700   \n",
              "8314176  2021110100    4433      NaN       57  2021-11-02T03:20:26.800   \n",
              "8314177  2021110100    4433      NaN       58  2021-11-02T03:20:26.900   \n",
              "\n",
              "         jerseyNumber      team playDirection      x      y     s     a   dis  \\\n",
              "0                12.0        TB         right  37.77  24.22  0.29  0.30  0.03   \n",
              "1                12.0        TB         right  37.78  24.22  0.23  0.11  0.02   \n",
              "2                12.0        TB         right  37.78  24.24  0.16  0.10  0.01   \n",
              "3                12.0        TB         right  37.73  24.25  0.15  0.24  0.06   \n",
              "4                12.0        TB         right  37.69  24.26  0.25  0.18  0.04   \n",
              "...               ...       ...           ...    ...    ...   ...   ...   ...   \n",
              "8314173           NaN  football         right  24.17  27.89  2.47  2.28  0.25   \n",
              "8314174           NaN  football         right  24.36  28.03  2.36  2.16  0.24   \n",
              "8314175           NaN  football         right  24.55  28.17  2.25  1.45  0.23   \n",
              "8314176           NaN  football         right  24.73  28.31  2.28  0.72  0.23   \n",
              "8314177           NaN  football         right  24.91  28.45  2.32  0.54  0.23   \n",
              "\n",
              "              o     dir event  season  week homeTeamAbbr visitorTeamAbbr  \\\n",
              "0        165.16   84.99  None    2021     1           TB             DAL   \n",
              "1        164.33   92.87  None    2021     1           TB             DAL   \n",
              "2        160.24   68.55  None    2021     1           TB             DAL   \n",
              "3        152.13  296.85  None    2021     1           TB             DAL   \n",
              "4        148.33  287.55  None    2021     1           TB             DAL   \n",
              "...         ...     ...   ...     ...   ...          ...             ...   \n",
              "8314173     NaN     NaN  None    2021     8           KC             NYG   \n",
              "8314174     NaN     NaN  None    2021     8           KC             NYG   \n",
              "8314175     NaN     NaN  None    2021     8           KC             NYG   \n",
              "8314176     NaN     NaN  None    2021     8           KC             NYG   \n",
              "8314177     NaN     NaN  None    2021     8           KC             NYG   \n",
              "\n",
              "         advantage  \n",
              "0             True  \n",
              "1             True  \n",
              "2             True  \n",
              "3             True  \n",
              "4             True  \n",
              "...            ...  \n",
              "8314173      False  \n",
              "8314174      False  \n",
              "8314175      False  \n",
              "8314176      False  \n",
              "8314177      False  \n",
              "\n",
              "[8314178 rows x 21 columns]"
            ],
            "text/html": [
              "\n",
              "  <div id=\"df-9fa73901-d977-4ed5-8902-ab815aa3ecda\">\n",
              "    <div class=\"colab-df-container\">\n",
              "      <div>\n",
              "<style scoped>\n",
              "    .dataframe tbody tr th:only-of-type {\n",
              "        vertical-align: middle;\n",
              "    }\n",
              "\n",
              "    .dataframe tbody tr th {\n",
              "        vertical-align: top;\n",
              "    }\n",
              "\n",
              "    .dataframe thead th {\n",
              "        text-align: right;\n",
              "    }\n",
              "</style>\n",
              "<table border=\"1\" class=\"dataframe\">\n",
              "  <thead>\n",
              "    <tr style=\"text-align: right;\">\n",
              "      <th></th>\n",
              "      <th>gameId</th>\n",
              "      <th>playId</th>\n",
              "      <th>nflId</th>\n",
              "      <th>frameId</th>\n",
              "      <th>time</th>\n",
              "      <th>jerseyNumber</th>\n",
              "      <th>team</th>\n",
              "      <th>playDirection</th>\n",
              "      <th>x</th>\n",
              "      <th>y</th>\n",
              "      <th>s</th>\n",
              "      <th>a</th>\n",
              "      <th>dis</th>\n",
              "      <th>o</th>\n",
              "      <th>dir</th>\n",
              "      <th>event</th>\n",
              "      <th>season</th>\n",
              "      <th>week</th>\n",
              "      <th>homeTeamAbbr</th>\n",
              "      <th>visitorTeamAbbr</th>\n",
              "      <th>advantage</th>\n",
              "    </tr>\n",
              "  </thead>\n",
              "  <tbody>\n",
              "    <tr>\n",
              "      <th>0</th>\n",
              "      <td>2021090900</td>\n",
              "      <td>97</td>\n",
              "      <td>25511.0</td>\n",
              "      <td>1</td>\n",
              "      <td>2021-09-10T00:26:31.100</td>\n",
              "      <td>12.0</td>\n",
              "      <td>TB</td>\n",
              "      <td>right</td>\n",
              "      <td>37.77</td>\n",
              "      <td>24.22</td>\n",
              "      <td>0.29</td>\n",
              "      <td>0.30</td>\n",
              "      <td>0.03</td>\n",
              "      <td>165.16</td>\n",
              "      <td>84.99</td>\n",
              "      <td>None</td>\n",
              "      <td>2021</td>\n",
              "      <td>1</td>\n",
              "      <td>TB</td>\n",
              "      <td>DAL</td>\n",
              "      <td>True</td>\n",
              "    </tr>\n",
              "    <tr>\n",
              "      <th>1</th>\n",
              "      <td>2021090900</td>\n",
              "      <td>97</td>\n",
              "      <td>25511.0</td>\n",
              "      <td>2</td>\n",
              "      <td>2021-09-10T00:26:31.200</td>\n",
              "      <td>12.0</td>\n",
              "      <td>TB</td>\n",
              "      <td>right</td>\n",
              "      <td>37.78</td>\n",
              "      <td>24.22</td>\n",
              "      <td>0.23</td>\n",
              "      <td>0.11</td>\n",
              "      <td>0.02</td>\n",
              "      <td>164.33</td>\n",
              "      <td>92.87</td>\n",
              "      <td>None</td>\n",
              "      <td>2021</td>\n",
              "      <td>1</td>\n",
              "      <td>TB</td>\n",
              "      <td>DAL</td>\n",
              "      <td>True</td>\n",
              "    </tr>\n",
              "    <tr>\n",
              "      <th>2</th>\n",
              "      <td>2021090900</td>\n",
              "      <td>97</td>\n",
              "      <td>25511.0</td>\n",
              "      <td>3</td>\n",
              "      <td>2021-09-10T00:26:31.300</td>\n",
              "      <td>12.0</td>\n",
              "      <td>TB</td>\n",
              "      <td>right</td>\n",
              "      <td>37.78</td>\n",
              "      <td>24.24</td>\n",
              "      <td>0.16</td>\n",
              "      <td>0.10</td>\n",
              "      <td>0.01</td>\n",
              "      <td>160.24</td>\n",
              "      <td>68.55</td>\n",
              "      <td>None</td>\n",
              "      <td>2021</td>\n",
              "      <td>1</td>\n",
              "      <td>TB</td>\n",
              "      <td>DAL</td>\n",
              "      <td>True</td>\n",
              "    </tr>\n",
              "    <tr>\n",
              "      <th>3</th>\n",
              "      <td>2021090900</td>\n",
              "      <td>97</td>\n",
              "      <td>25511.0</td>\n",
              "      <td>4</td>\n",
              "      <td>2021-09-10T00:26:31.400</td>\n",
              "      <td>12.0</td>\n",
              "      <td>TB</td>\n",
              "      <td>right</td>\n",
              "      <td>37.73</td>\n",
              "      <td>24.25</td>\n",
              "      <td>0.15</td>\n",
              "      <td>0.24</td>\n",
              "      <td>0.06</td>\n",
              "      <td>152.13</td>\n",
              "      <td>296.85</td>\n",
              "      <td>None</td>\n",
              "      <td>2021</td>\n",
              "      <td>1</td>\n",
              "      <td>TB</td>\n",
              "      <td>DAL</td>\n",
              "      <td>True</td>\n",
              "    </tr>\n",
              "    <tr>\n",
              "      <th>4</th>\n",
              "      <td>2021090900</td>\n",
              "      <td>97</td>\n",
              "      <td>25511.0</td>\n",
              "      <td>5</td>\n",
              "      <td>2021-09-10T00:26:31.500</td>\n",
              "      <td>12.0</td>\n",
              "      <td>TB</td>\n",
              "      <td>right</td>\n",
              "      <td>37.69</td>\n",
              "      <td>24.26</td>\n",
              "      <td>0.25</td>\n",
              "      <td>0.18</td>\n",
              "      <td>0.04</td>\n",
              "      <td>148.33</td>\n",
              "      <td>287.55</td>\n",
              "      <td>None</td>\n",
              "      <td>2021</td>\n",
              "      <td>1</td>\n",
              "      <td>TB</td>\n",
              "      <td>DAL</td>\n",
              "      <td>True</td>\n",
              "    </tr>\n",
              "    <tr>\n",
              "      <th>...</th>\n",
              "      <td>...</td>\n",
              "      <td>...</td>\n",
              "      <td>...</td>\n",
              "      <td>...</td>\n",
              "      <td>...</td>\n",
              "      <td>...</td>\n",
              "      <td>...</td>\n",
              "      <td>...</td>\n",
              "      <td>...</td>\n",
              "      <td>...</td>\n",
              "      <td>...</td>\n",
              "      <td>...</td>\n",
              "      <td>...</td>\n",
              "      <td>...</td>\n",
              "      <td>...</td>\n",
              "      <td>...</td>\n",
              "      <td>...</td>\n",
              "      <td>...</td>\n",
              "      <td>...</td>\n",
              "      <td>...</td>\n",
              "      <td>...</td>\n",
              "    </tr>\n",
              "    <tr>\n",
              "      <th>8314173</th>\n",
              "      <td>2021110100</td>\n",
              "      <td>4433</td>\n",
              "      <td>NaN</td>\n",
              "      <td>54</td>\n",
              "      <td>2021-11-02T03:20:26.500</td>\n",
              "      <td>NaN</td>\n",
              "      <td>football</td>\n",
              "      <td>right</td>\n",
              "      <td>24.17</td>\n",
              "      <td>27.89</td>\n",
              "      <td>2.47</td>\n",
              "      <td>2.28</td>\n",
              "      <td>0.25</td>\n",
              "      <td>NaN</td>\n",
              "      <td>NaN</td>\n",
              "      <td>None</td>\n",
              "      <td>2021</td>\n",
              "      <td>8</td>\n",
              "      <td>KC</td>\n",
              "      <td>NYG</td>\n",
              "      <td>False</td>\n",
              "    </tr>\n",
              "    <tr>\n",
              "      <th>8314174</th>\n",
              "      <td>2021110100</td>\n",
              "      <td>4433</td>\n",
              "      <td>NaN</td>\n",
              "      <td>55</td>\n",
              "      <td>2021-11-02T03:20:26.600</td>\n",
              "      <td>NaN</td>\n",
              "      <td>football</td>\n",
              "      <td>right</td>\n",
              "      <td>24.36</td>\n",
              "      <td>28.03</td>\n",
              "      <td>2.36</td>\n",
              "      <td>2.16</td>\n",
              "      <td>0.24</td>\n",
              "      <td>NaN</td>\n",
              "      <td>NaN</td>\n",
              "      <td>None</td>\n",
              "      <td>2021</td>\n",
              "      <td>8</td>\n",
              "      <td>KC</td>\n",
              "      <td>NYG</td>\n",
              "      <td>False</td>\n",
              "    </tr>\n",
              "    <tr>\n",
              "      <th>8314175</th>\n",
              "      <td>2021110100</td>\n",
              "      <td>4433</td>\n",
              "      <td>NaN</td>\n",
              "      <td>56</td>\n",
              "      <td>2021-11-02T03:20:26.700</td>\n",
              "      <td>NaN</td>\n",
              "      <td>football</td>\n",
              "      <td>right</td>\n",
              "      <td>24.55</td>\n",
              "      <td>28.17</td>\n",
              "      <td>2.25</td>\n",
              "      <td>1.45</td>\n",
              "      <td>0.23</td>\n",
              "      <td>NaN</td>\n",
              "      <td>NaN</td>\n",
              "      <td>None</td>\n",
              "      <td>2021</td>\n",
              "      <td>8</td>\n",
              "      <td>KC</td>\n",
              "      <td>NYG</td>\n",
              "      <td>False</td>\n",
              "    </tr>\n",
              "    <tr>\n",
              "      <th>8314176</th>\n",
              "      <td>2021110100</td>\n",
              "      <td>4433</td>\n",
              "      <td>NaN</td>\n",
              "      <td>57</td>\n",
              "      <td>2021-11-02T03:20:26.800</td>\n",
              "      <td>NaN</td>\n",
              "      <td>football</td>\n",
              "      <td>right</td>\n",
              "      <td>24.73</td>\n",
              "      <td>28.31</td>\n",
              "      <td>2.28</td>\n",
              "      <td>0.72</td>\n",
              "      <td>0.23</td>\n",
              "      <td>NaN</td>\n",
              "      <td>NaN</td>\n",
              "      <td>None</td>\n",
              "      <td>2021</td>\n",
              "      <td>8</td>\n",
              "      <td>KC</td>\n",
              "      <td>NYG</td>\n",
              "      <td>False</td>\n",
              "    </tr>\n",
              "    <tr>\n",
              "      <th>8314177</th>\n",
              "      <td>2021110100</td>\n",
              "      <td>4433</td>\n",
              "      <td>NaN</td>\n",
              "      <td>58</td>\n",
              "      <td>2021-11-02T03:20:26.900</td>\n",
              "      <td>NaN</td>\n",
              "      <td>football</td>\n",
              "      <td>right</td>\n",
              "      <td>24.91</td>\n",
              "      <td>28.45</td>\n",
              "      <td>2.32</td>\n",
              "      <td>0.54</td>\n",
              "      <td>0.23</td>\n",
              "      <td>NaN</td>\n",
              "      <td>NaN</td>\n",
              "      <td>None</td>\n",
              "      <td>2021</td>\n",
              "      <td>8</td>\n",
              "      <td>KC</td>\n",
              "      <td>NYG</td>\n",
              "      <td>False</td>\n",
              "    </tr>\n",
              "  </tbody>\n",
              "</table>\n",
              "<p>8314178 rows × 21 columns</p>\n",
              "</div>\n",
              "      <button class=\"colab-df-convert\" onclick=\"convertToInteractive('df-9fa73901-d977-4ed5-8902-ab815aa3ecda')\"\n",
              "              title=\"Convert this dataframe to an interactive table.\"\n",
              "              style=\"display:none;\">\n",
              "        \n",
              "  <svg xmlns=\"http://www.w3.org/2000/svg\" height=\"24px\"viewBox=\"0 0 24 24\"\n",
              "       width=\"24px\">\n",
              "    <path d=\"M0 0h24v24H0V0z\" fill=\"none\"/>\n",
              "    <path d=\"M18.56 5.44l.94 2.06.94-2.06 2.06-.94-2.06-.94-.94-2.06-.94 2.06-2.06.94zm-11 1L8.5 8.5l.94-2.06 2.06-.94-2.06-.94L8.5 2.5l-.94 2.06-2.06.94zm10 10l.94 2.06.94-2.06 2.06-.94-2.06-.94-.94-2.06-.94 2.06-2.06.94z\"/><path d=\"M17.41 7.96l-1.37-1.37c-.4-.4-.92-.59-1.43-.59-.52 0-1.04.2-1.43.59L10.3 9.45l-7.72 7.72c-.78.78-.78 2.05 0 2.83L4 21.41c.39.39.9.59 1.41.59.51 0 1.02-.2 1.41-.59l7.78-7.78 2.81-2.81c.8-.78.8-2.07 0-2.86zM5.41 20L4 18.59l7.72-7.72 1.47 1.35L5.41 20z\"/>\n",
              "  </svg>\n",
              "      </button>\n",
              "      \n",
              "  <style>\n",
              "    .colab-df-container {\n",
              "      display:flex;\n",
              "      flex-wrap:wrap;\n",
              "      gap: 12px;\n",
              "    }\n",
              "\n",
              "    .colab-df-convert {\n",
              "      background-color: #E8F0FE;\n",
              "      border: none;\n",
              "      border-radius: 50%;\n",
              "      cursor: pointer;\n",
              "      display: none;\n",
              "      fill: #1967D2;\n",
              "      height: 32px;\n",
              "      padding: 0 0 0 0;\n",
              "      width: 32px;\n",
              "    }\n",
              "\n",
              "    .colab-df-convert:hover {\n",
              "      background-color: #E2EBFA;\n",
              "      box-shadow: 0px 1px 2px rgba(60, 64, 67, 0.3), 0px 1px 3px 1px rgba(60, 64, 67, 0.15);\n",
              "      fill: #174EA6;\n",
              "    }\n",
              "\n",
              "    [theme=dark] .colab-df-convert {\n",
              "      background-color: #3B4455;\n",
              "      fill: #D2E3FC;\n",
              "    }\n",
              "\n",
              "    [theme=dark] .colab-df-convert:hover {\n",
              "      background-color: #434B5C;\n",
              "      box-shadow: 0px 1px 3px 1px rgba(0, 0, 0, 0.15);\n",
              "      filter: drop-shadow(0px 1px 2px rgba(0, 0, 0, 0.3));\n",
              "      fill: #FFFFFF;\n",
              "    }\n",
              "  </style>\n",
              "\n",
              "      <script>\n",
              "        const buttonEl =\n",
              "          document.querySelector('#df-9fa73901-d977-4ed5-8902-ab815aa3ecda button.colab-df-convert');\n",
              "        buttonEl.style.display =\n",
              "          google.colab.kernel.accessAllowed ? 'block' : 'none';\n",
              "\n",
              "        async function convertToInteractive(key) {\n",
              "          const element = document.querySelector('#df-9fa73901-d977-4ed5-8902-ab815aa3ecda');\n",
              "          const dataTable =\n",
              "            await google.colab.kernel.invokeFunction('convertToInteractive',\n",
              "                                                     [key], {});\n",
              "          if (!dataTable) return;\n",
              "\n",
              "          const docLinkHtml = 'Like what you see? Visit the ' +\n",
              "            '<a target=\"_blank\" href=https://colab.research.google.com/notebooks/data_table.ipynb>data table notebook</a>'\n",
              "            + ' to learn more about interactive tables.';\n",
              "          element.innerHTML = '';\n",
              "          dataTable['output_type'] = 'display_data';\n",
              "          await google.colab.output.renderOutput(dataTable, element);\n",
              "          const docLink = document.createElement('div');\n",
              "          docLink.innerHTML = docLinkHtml;\n",
              "          element.appendChild(docLink);\n",
              "        }\n",
              "      </script>\n",
              "    </div>\n",
              "  </div>\n",
              "  "
            ]
          },
          "metadata": {},
          "execution_count": 11
        }
      ]
    },
    {
      "cell_type": "code",
      "source": [
        "weeks.to_csv(\"/content/drive/MyDrive/NFL_DATA/data/tracking_data/FW.csv\")"
      ],
      "metadata": {
        "id": "IqD-nQxHFmyG"
      },
      "execution_count": 12,
      "outputs": []
    },
    {
      "cell_type": "code",
      "source": [
        "labels = [\n",
        "    ('_id', IntegerType()),\n",
        "    ('gameId', IntegerType()),\n",
        "    ('playId', IntegerType()),\n",
        "    ('nflId', FloatType()),\n",
        "    ('frameId', IntegerType()), \n",
        "    ('time', TimestampType()), \n",
        "    ('jerseyNumber', FloatType()), \n",
        "    ('team', StringType()),\n",
        "    ('playDirection', StringType()), \n",
        "    ('x', FloatType()), \n",
        "    ('y', FloatType()), \n",
        "    ('s', FloatType()), \n",
        "    ('a', FloatType()), \n",
        "    ('dis', FloatType()), \n",
        "    ('o', FloatType()), \n",
        "    ('dir', FloatType()), \n",
        "    ('event', StringType()),\n",
        "    ('season', IntegerType()),\n",
        "    ('week', IntegerType()),\n",
        "    ('home', StringType()),\n",
        "    ('away', StringType()),\n",
        "    ('advantage', StringType())\n",
        "    ]\n",
        "schema = StructType([StructField (i[0],i[1],True) for i in labels])\n"
      ],
      "metadata": {
        "id": "w13XoinnlX7H"
      },
      "execution_count": 48,
      "outputs": []
    },
    {
      "cell_type": "code",
      "source": [
        "spark = SparkSession.builder.appName(\"nfl_verse\").getOrCreate()"
      ],
      "metadata": {
        "id": "CvgBbXvG73EG"
      },
      "execution_count": 49,
      "outputs": []
    },
    {
      "cell_type": "code",
      "source": [
        "tracking = spark.read.csv(\"/content/drive/MyDrive/NFL_DATA/data/tracking_data/FW.csv\", schema=schema, header=True)"
      ],
      "metadata": {
        "id": "192xgedxvELs"
      },
      "execution_count": 50,
      "outputs": []
    },
    {
      "cell_type": "code",
      "source": [
        "tracking.show()"
      ],
      "metadata": {
        "colab": {
          "base_uri": "https://localhost:8080/"
        },
        "id": "OUupSjeZjLBI",
        "outputId": "d2b64f15-4930-4ff5-f5ab-987791385347"
      },
      "execution_count": 51,
      "outputs": [
        {
          "output_type": "stream",
          "name": "stdout",
          "text": [
            "+---+----------+------+-------+-------+--------------------+------------+----+-------------+-----+-----+----+----+----+------+------+---------+------+----+----+----+---------+\n",
            "|_id|    gameId|playId|  nflId|frameId|                time|jerseyNumber|team|playDirection|    x|    y|   s|   a| dis|     o|   dir|    event|season|week|home|away|advantage|\n",
            "+---+----------+------+-------+-------+--------------------+------------+----+-------------+-----+-----+----+----+----+------+------+---------+------+----+----+----+---------+\n",
            "|  0|2021090900|    97|25511.0|      1|2021-09-10 00:26:...|        12.0|  TB|        right|37.77|24.22|0.29| 0.3|0.03|165.16| 84.99|     None|  2021|   1|  TB| DAL|     True|\n",
            "|  1|2021090900|    97|25511.0|      2|2021-09-10 00:26:...|        12.0|  TB|        right|37.78|24.22|0.23|0.11|0.02|164.33| 92.87|     None|  2021|   1|  TB| DAL|     True|\n",
            "|  2|2021090900|    97|25511.0|      3|2021-09-10 00:26:...|        12.0|  TB|        right|37.78|24.24|0.16| 0.1|0.01|160.24| 68.55|     None|  2021|   1|  TB| DAL|     True|\n",
            "|  3|2021090900|    97|25511.0|      4|2021-09-10 00:26:...|        12.0|  TB|        right|37.73|24.25|0.15|0.24|0.06|152.13|296.85|     None|  2021|   1|  TB| DAL|     True|\n",
            "|  4|2021090900|    97|25511.0|      5|2021-09-10 00:26:...|        12.0|  TB|        right|37.69|24.26|0.25|0.18|0.04|148.33|287.55|     None|  2021|   1|  TB| DAL|     True|\n",
            "|  5|2021090900|    97|25511.0|      6|2021-09-10 00:26:...|        12.0|  TB|        right|37.64|24.26|0.35|0.53|0.05|144.42|282.72|ball_snap|  2021|   1|  TB| DAL|     True|\n",
            "|  6|2021090900|    97|25511.0|      7|2021-09-10 00:26:...|        12.0|  TB|        right|37.56|24.26|0.54|1.05|0.08|137.49|272.95|     None|  2021|   1|  TB| DAL|     True|\n",
            "|  7|2021090900|    97|25511.0|      8|2021-09-10 00:26:...|        12.0|  TB|        right|37.47|24.25| 0.8|1.85|0.09|131.95|267.49|     None|  2021|   1|  TB| DAL|     True|\n",
            "|  8|2021090900|    97|25511.0|      9|2021-09-10 00:26:...|        12.0|  TB|        right|37.38|24.24|0.99|2.03|0.09|129.85|263.48|     None|  2021|   1|  TB| DAL|     True|\n",
            "|  9|2021090900|    97|25511.0|     10| 2021-09-10 00:26:32|        12.0|  TB|        right|37.27|24.23|1.19|1.82|0.11|123.79|263.77|     None|  2021|   1|  TB| DAL|     True|\n",
            "| 10|2021090900|    97|25511.0|     11|2021-09-10 00:26:...|        12.0|  TB|        right|37.14|24.22|1.38|1.61|0.13|119.88|261.95|     None|  2021|   1|  TB| DAL|     True|\n",
            "| 11|2021090900|    97|25511.0|     12|2021-09-10 00:26:...|        12.0|  TB|        right|36.99|24.19|1.57|1.43|0.15|113.65|260.27|     None|  2021|   1|  TB| DAL|     True|\n",
            "| 12|2021090900|    97|25511.0|     13|2021-09-10 00:26:...|        12.0|  TB|        right| 36.8|24.16|1.82|1.37|0.19|107.99|261.01|     None|  2021|   1|  TB| DAL|     True|\n",
            "| 13|2021090900|    97|25511.0|     14|2021-09-10 00:26:...|        12.0|  TB|        right|36.56|24.15|2.23|1.63|0.25| 114.8|264.15|     None|  2021|   1|  TB| DAL|     True|\n",
            "| 14|2021090900|    97|25511.0|     15|2021-09-10 00:26:...|        12.0|  TB|        right|36.34|24.12|2.36|1.28|0.23|119.55|263.17|     None|  2021|   1|  TB| DAL|     True|\n",
            "| 15|2021090900|    97|25511.0|     16|2021-09-10 00:26:...|        12.0|  TB|        right| 36.1| 24.1|2.45| 1.0|0.24|122.01|264.81|     None|  2021|   1|  TB| DAL|     True|\n",
            "| 16|2021090900|    97|25511.0|     17|2021-09-10 00:26:...|        12.0|  TB|        right|35.86|24.08| 2.5|0.77|0.24|124.38|265.92|     None|  2021|   1|  TB| DAL|     True|\n",
            "| 17|2021090900|    97|25511.0|     18|2021-09-10 00:26:...|        12.0|  TB|        right|35.63|24.05|2.35| 0.4|0.23|128.26|263.13|     None|  2021|   1|  TB| DAL|     True|\n",
            "| 18|2021090900|    97|25511.0|     19|2021-09-10 00:26:...|        12.0|  TB|        right|35.42|24.02|2.11|1.23|0.21|142.06|261.04|     None|  2021|   1|  TB| DAL|     True|\n",
            "| 19|2021090900|    97|25511.0|     20| 2021-09-10 00:26:33|        12.0|  TB|        right|35.22|23.98|1.96|1.55| 0.2|151.05|258.95|     None|  2021|   1|  TB| DAL|     True|\n",
            "+---+----------+------+-------+-------+--------------------+------------+----+-------------+-----+-----+----+----+----+------+------+---------+------+----+----+----+---------+\n",
            "only showing top 20 rows\n",
            "\n"
          ]
        }
      ]
    },
    {
      "cell_type": "code",
      "source": [
        "# tracking.write.parquet(\"/content/drive/MyDrive/NFL_DATA/data/tracking_data/FULLweeks1.parquet\")\n",
        "\n",
        "# df = spark.read.format(\"parquet\").load(\"/content/drive/MyDrive/NFL_DATA/data/tracking_data/FULLweeks1.parquet\")"
      ],
      "metadata": {
        "id": "jTxj3dbGZzaZ"
      },
      "execution_count": 19,
      "outputs": []
    },
    {
      "cell_type": "code",
      "source": [
        "print(f\"{tracking.count():,d}\")"
      ],
      "metadata": {
        "colab": {
          "base_uri": "https://localhost:8080/"
        },
        "id": "sOJ16cpEaITt",
        "outputId": "27419768-7a14-4a3a-a7e1-fd4a90e4a0bd"
      },
      "execution_count": 52,
      "outputs": [
        {
          "output_type": "stream",
          "name": "stdout",
          "text": [
            "8,314,178\n"
          ]
        }
      ]
    },
    {
      "cell_type": "code",
      "source": [
        "tracking.printSchema()"
      ],
      "metadata": {
        "colab": {
          "base_uri": "https://localhost:8080/"
        },
        "id": "jxMEq3ehTe74",
        "outputId": "8c69c87f-a8f5-47ab-b41e-facf8bea0b7c"
      },
      "execution_count": 54,
      "outputs": [
        {
          "output_type": "stream",
          "name": "stdout",
          "text": [
            "root\n",
            " |-- _id: integer (nullable = true)\n",
            " |-- gameId: integer (nullable = true)\n",
            " |-- playId: integer (nullable = true)\n",
            " |-- nflId: float (nullable = true)\n",
            " |-- frameId: integer (nullable = true)\n",
            " |-- time: timestamp (nullable = true)\n",
            " |-- jerseyNumber: float (nullable = true)\n",
            " |-- team: string (nullable = true)\n",
            " |-- playDirection: string (nullable = true)\n",
            " |-- x: float (nullable = true)\n",
            " |-- y: float (nullable = true)\n",
            " |-- s: float (nullable = true)\n",
            " |-- a: float (nullable = true)\n",
            " |-- dis: float (nullable = true)\n",
            " |-- o: float (nullable = true)\n",
            " |-- dir: float (nullable = true)\n",
            " |-- event: string (nullable = true)\n",
            " |-- season: integer (nullable = true)\n",
            " |-- week: integer (nullable = true)\n",
            " |-- home: string (nullable = true)\n",
            " |-- away: string (nullable = true)\n",
            " |-- advantage: string (nullable = true)\n",
            "\n"
          ]
        }
      ]
    },
    {
      "cell_type": "code",
      "source": [
        "tracking.show()"
      ],
      "metadata": {
        "colab": {
          "base_uri": "https://localhost:8080/"
        },
        "id": "FaKV9pjtZUWJ",
        "outputId": "5fa5e5fe-463d-4ed3-b115-8e2edc4e76b8"
      },
      "execution_count": 55,
      "outputs": [
        {
          "output_type": "stream",
          "name": "stdout",
          "text": [
            "+---+----------+------+-------+-------+--------------------+------------+----+-------------+-----+-----+----+----+----+------+------+---------+------+----+----+----+---------+\n",
            "|_id|    gameId|playId|  nflId|frameId|                time|jerseyNumber|team|playDirection|    x|    y|   s|   a| dis|     o|   dir|    event|season|week|home|away|advantage|\n",
            "+---+----------+------+-------+-------+--------------------+------------+----+-------------+-----+-----+----+----+----+------+------+---------+------+----+----+----+---------+\n",
            "|  0|2021090900|    97|25511.0|      1|2021-09-10 00:26:...|        12.0|  TB|        right|37.77|24.22|0.29| 0.3|0.03|165.16| 84.99|     None|  2021|   1|  TB| DAL|     True|\n",
            "|  1|2021090900|    97|25511.0|      2|2021-09-10 00:26:...|        12.0|  TB|        right|37.78|24.22|0.23|0.11|0.02|164.33| 92.87|     None|  2021|   1|  TB| DAL|     True|\n",
            "|  2|2021090900|    97|25511.0|      3|2021-09-10 00:26:...|        12.0|  TB|        right|37.78|24.24|0.16| 0.1|0.01|160.24| 68.55|     None|  2021|   1|  TB| DAL|     True|\n",
            "|  3|2021090900|    97|25511.0|      4|2021-09-10 00:26:...|        12.0|  TB|        right|37.73|24.25|0.15|0.24|0.06|152.13|296.85|     None|  2021|   1|  TB| DAL|     True|\n",
            "|  4|2021090900|    97|25511.0|      5|2021-09-10 00:26:...|        12.0|  TB|        right|37.69|24.26|0.25|0.18|0.04|148.33|287.55|     None|  2021|   1|  TB| DAL|     True|\n",
            "|  5|2021090900|    97|25511.0|      6|2021-09-10 00:26:...|        12.0|  TB|        right|37.64|24.26|0.35|0.53|0.05|144.42|282.72|ball_snap|  2021|   1|  TB| DAL|     True|\n",
            "|  6|2021090900|    97|25511.0|      7|2021-09-10 00:26:...|        12.0|  TB|        right|37.56|24.26|0.54|1.05|0.08|137.49|272.95|     None|  2021|   1|  TB| DAL|     True|\n",
            "|  7|2021090900|    97|25511.0|      8|2021-09-10 00:26:...|        12.0|  TB|        right|37.47|24.25| 0.8|1.85|0.09|131.95|267.49|     None|  2021|   1|  TB| DAL|     True|\n",
            "|  8|2021090900|    97|25511.0|      9|2021-09-10 00:26:...|        12.0|  TB|        right|37.38|24.24|0.99|2.03|0.09|129.85|263.48|     None|  2021|   1|  TB| DAL|     True|\n",
            "|  9|2021090900|    97|25511.0|     10| 2021-09-10 00:26:32|        12.0|  TB|        right|37.27|24.23|1.19|1.82|0.11|123.79|263.77|     None|  2021|   1|  TB| DAL|     True|\n",
            "| 10|2021090900|    97|25511.0|     11|2021-09-10 00:26:...|        12.0|  TB|        right|37.14|24.22|1.38|1.61|0.13|119.88|261.95|     None|  2021|   1|  TB| DAL|     True|\n",
            "| 11|2021090900|    97|25511.0|     12|2021-09-10 00:26:...|        12.0|  TB|        right|36.99|24.19|1.57|1.43|0.15|113.65|260.27|     None|  2021|   1|  TB| DAL|     True|\n",
            "| 12|2021090900|    97|25511.0|     13|2021-09-10 00:26:...|        12.0|  TB|        right| 36.8|24.16|1.82|1.37|0.19|107.99|261.01|     None|  2021|   1|  TB| DAL|     True|\n",
            "| 13|2021090900|    97|25511.0|     14|2021-09-10 00:26:...|        12.0|  TB|        right|36.56|24.15|2.23|1.63|0.25| 114.8|264.15|     None|  2021|   1|  TB| DAL|     True|\n",
            "| 14|2021090900|    97|25511.0|     15|2021-09-10 00:26:...|        12.0|  TB|        right|36.34|24.12|2.36|1.28|0.23|119.55|263.17|     None|  2021|   1|  TB| DAL|     True|\n",
            "| 15|2021090900|    97|25511.0|     16|2021-09-10 00:26:...|        12.0|  TB|        right| 36.1| 24.1|2.45| 1.0|0.24|122.01|264.81|     None|  2021|   1|  TB| DAL|     True|\n",
            "| 16|2021090900|    97|25511.0|     17|2021-09-10 00:26:...|        12.0|  TB|        right|35.86|24.08| 2.5|0.77|0.24|124.38|265.92|     None|  2021|   1|  TB| DAL|     True|\n",
            "| 17|2021090900|    97|25511.0|     18|2021-09-10 00:26:...|        12.0|  TB|        right|35.63|24.05|2.35| 0.4|0.23|128.26|263.13|     None|  2021|   1|  TB| DAL|     True|\n",
            "| 18|2021090900|    97|25511.0|     19|2021-09-10 00:26:...|        12.0|  TB|        right|35.42|24.02|2.11|1.23|0.21|142.06|261.04|     None|  2021|   1|  TB| DAL|     True|\n",
            "| 19|2021090900|    97|25511.0|     20| 2021-09-10 00:26:33|        12.0|  TB|        right|35.22|23.98|1.96|1.55| 0.2|151.05|258.95|     None|  2021|   1|  TB| DAL|     True|\n",
            "+---+----------+------+-------+-------+--------------------+------------+----+-------------+-----+-----+----+----+----+------+------+---------+------+----+----+----+---------+\n",
            "only showing top 20 rows\n",
            "\n"
          ]
        }
      ]
    },
    {
      "cell_type": "code",
      "source": [
        "# register dataframe as a SQL/temporary view \n",
        "tracking.createOrReplaceTempView('nfl')"
      ],
      "metadata": {
        "id": "x8_zeOkw8Tu0"
      },
      "execution_count": 56,
      "outputs": []
    },
    {
      "cell_type": "code",
      "source": [
        "home_team = spark.sql(\"SELECT * FROM nfl WHERE gameId = 2021092300 and playId = 54 and frameId = 1 and advantage = True ORDER BY time ASC\")"
      ],
      "metadata": {
        "id": "DV6djO1N_brb"
      },
      "execution_count": 67,
      "outputs": []
    },
    {
      "cell_type": "code",
      "source": [
        "home_team.select('x').show()"
      ],
      "metadata": {
        "colab": {
          "base_uri": "https://localhost:8080/"
        },
        "id": "aJfoj2WeAu74",
        "outputId": "866980d9-9452-418a-c46b-3c434c17e354"
      },
      "execution_count": 84,
      "outputs": [
        {
          "output_type": "stream",
          "name": "stdout",
          "text": [
            "+-----+\n",
            "|    x|\n",
            "+-----+\n",
            "|38.66|\n",
            "|38.62|\n",
            "|39.55|\n",
            "| 35.3|\n",
            "|35.82|\n",
            "|35.57|\n",
            "|35.08|\n",
            "|37.24|\n",
            "|52.29|\n",
            "| 35.4|\n",
            "|35.81|\n",
            "+-----+\n",
            "\n"
          ]
        }
      ]
    },
    {
      "cell_type": "code",
      "source": [
        "away_team = spark.sql(\"SELECT * FROM nfl WHERE gameId = 2021092300 and playId = 54 and frameId = 1 and advantage = False and team != 'football' ORDER BY time ASC\")\n",
        "\n",
        "football = spark.sql(\"SELECT * FROM nfl WHERE gameId = 2021092300 and playId = 54 and frameId = 1 and team = 'football' ORDER BY time ASC\")"
      ],
      "metadata": {
        "id": "1rdVYSTmPrbV"
      },
      "execution_count": 69,
      "outputs": []
    },
    {
      "cell_type": "code",
      "source": [
        "away_team.show()"
      ],
      "metadata": {
        "colab": {
          "base_uri": "https://localhost:8080/"
        },
        "id": "xATFocVDkr04",
        "outputId": "ddb1cb00-b08a-4d04-da46-d2975bf8f5e0"
      },
      "execution_count": 70,
      "outputs": [
        {
          "output_type": "stream",
          "name": "stdout",
          "text": [
            "+-------+----------+------+-------+-------+--------------------+------------+----+-------------+-----+-----+----+----+----+-----+------+-----+------+----+----+----+---------+\n",
            "|    _id|    gameId|playId|  nflId|frameId|                time|jerseyNumber|team|playDirection|    x|    y|   s|   a| dis|    o|   dir|event|season|week|home|away|advantage|\n",
            "+-------+----------+------+-------+-------+--------------------+------------+----+-------------+-----+-----+----+----+----+-----+------+-----+------+----+----+----+---------+\n",
            "|2160927|2021092300|    54|41436.0|      1|2021-09-24 00:23:...|        61.0| CAR|        right| 34.3|30.15| 0.0| 0.0| 0.0|91.65|255.07| None|  2021|   3| HOU| CAR|    False|\n",
            "|2160989|2021092300|    54|42362.0|      1|2021-09-24 00:23:...|        75.0| CAR|        right|33.33|33.32| 0.0| 0.0| 0.0|80.41|234.11| None|  2021|   3| HOU| CAR|    False|\n",
            "|2161020|2021092300|    54|42424.0|      1|2021-09-24 00:23:...|        67.0| CAR|        right|33.68|28.38| 0.0| 0.0| 0.0|94.61|286.17| None|  2021|   3| HOU| CAR|    False|\n",
            "|2161144|2021092300|    54|43808.0|      1|2021-09-24 00:23:...|        11.0| CAR|        right| 32.9|17.13| 0.0| 0.0| 0.0|80.56|295.41| None|  2021|   3| HOU| CAR|    False|\n",
            "|2161175|2021092300|    54|44820.0|      1|2021-09-24 00:23:...|        22.0| CAR|        right|26.85|29.85| 0.0| 0.0| 0.0|102.3| 98.35| None|  2021|   3| HOU| CAR|    False|\n",
            "|2161237|2021092300|    54|44876.0|      1|2021-09-24 00:23:...|        72.0| CAR|        right|33.55|27.02| 0.0| 0.0| 0.0|85.45| 292.8| None|  2021|   3| HOU| CAR|    False|\n",
            "|2161268|2021092300|    54|45594.0|      1|2021-09-24 00:23:...|        86.0| CAR|        right|33.17|24.02|0.07|0.21|0.01|36.62| 286.0| None|  2021|   3| HOU| CAR|    False|\n",
            "|2161299|2021092300|    54|46072.0|      1|2021-09-24 00:23:...|        14.0| CAR|        right|33.19|30.02| 0.0| 0.0| 0.0|79.43|149.15| None|  2021|   3| HOU| CAR|    False|\n",
            "|2161330|2021092300|    54|46093.0|      1|2021-09-24 00:23:...|         2.0| CAR|        right|33.91|43.76| 0.0| 0.0| 0.0|78.73|140.49| None|  2021|   3| HOU| CAR|    False|\n",
            "|2161361|2021092300|    54|46170.0|      1|2021-09-24 00:23:...|        80.0| CAR|        right|33.61|25.59| 0.0| 0.0| 0.0|63.58|  6.55| None|  2021|   3| HOU| CAR|    False|\n",
            "|2161485|2021092300|    54|47995.0|      1|2021-09-24 00:23:...|        65.0| CAR|        right| 33.7|31.65| 0.0| 0.0| 0.0|97.74| 76.01| None|  2021|   3| HOU| CAR|    False|\n",
            "+-------+----------+------+-------+-------+--------------------+------------+----+-------------+-----+-----+----+----+----+-----+------+-----+------+----+----+----+---------+\n",
            "\n"
          ]
        }
      ]
    },
    {
      "cell_type": "code",
      "source": [
        "football.show()"
      ],
      "metadata": {
        "colab": {
          "base_uri": "https://localhost:8080/"
        },
        "id": "JV8hQuRYktMZ",
        "outputId": "2449c161-8aa6-421d-dd3b-fd9988a5bc0e"
      },
      "execution_count": 71,
      "outputs": [
        {
          "output_type": "stream",
          "name": "stdout",
          "text": [
            "+-------+----------+------+-----+-------+--------------------+------------+--------+-------------+-----+-----+---+---+---+----+----+-----+------+----+----+----+---------+\n",
            "|    _id|    gameId|playId|nflId|frameId|                time|jerseyNumber|    team|playDirection|    x|    y|  s|  a|dis|   o| dir|event|season|week|home|away|advantage|\n",
            "+-------+----------+------+-----+-------+--------------------+------------+--------+-------------+-----+-----+---+---+---+----+----+-----+------+----+----+----+---------+\n",
            "|2161578|2021092300|    54| null|      1|2021-09-24 00:23:...|        null|football|        right|34.81|30.04|0.0|0.0|0.0|null|null| None|  2021|   3| HOU| CAR|    False|\n",
            "+-------+----------+------+-----+-------+--------------------+------------+--------+-------------+-----+-----+---+---+---+----+----+-----+------+----+----+----+---------+\n",
            "\n"
          ]
        }
      ]
    },
    {
      "cell_type": "markdown",
      "source": [
        "# Plotting the field"
      ],
      "metadata": {
        "id": "GRt8g6kCkt2H"
      }
    },
    {
      "cell_type": "code",
      "source": [
        "def generate_field():\n",
        "\n",
        "    rect = patches.Rectangle((0, 0), 120, 53.3, linewidth=2,\n",
        "                            edgecolor='black', facecolor='green', zorder=0)\n",
        "\n",
        "    fig, ax = plt.subplots(1, figsize=(12, 5.33))\n",
        "    ax.add_patch(rect)\n",
        "\n",
        "    # plot line numbers\n",
        "    for a in [10, 20, 30, 40, 50, 60, 70, 80, 90, 100, 110]:\n",
        "        ax.axvline(x=a, color='white')\n",
        "\n",
        "    # added to set y-axis up for the numbers\n",
        "    ax.axhline(y=0, color='white')\n",
        "    ax.axhline(y=53.3, color='white')\n",
        "\n",
        "    # plot numbers \n",
        "    for x in range(20, 110, 10):\n",
        "        numb = x\n",
        "        if x > 50:\n",
        "            numb = 120-x\n",
        "        ax.text(x, 5, str(numb - 10), horizontalalignment='center', fontsize=20, color='white')\n",
        "        ax.text(x-0.95, 53.3-5, str(numb-10),\n",
        "                horizontalalignment='center', fontsize=20, color='white', rotation=180)\n",
        "        \n",
        "    # hash marks\n",
        "    for x in range(11, 110):\n",
        "        ax.plot([x, x], [0.4, 0.7], color='white')\n",
        "        ax.plot([x, x], [53.0, 52.5], color='white')\n",
        "        ax.plot([x, x], [23, 23.66], color='white')\n",
        "        ax.plot([x, x], [29.66, 30.33], color='white')\n",
        "\n",
        "    # hide axis\n",
        "    plt.axis('off')\n",
        "\n",
        "    return fig, ax"
      ],
      "metadata": {
        "id": "PDRMQ80Tk6NI"
      },
      "execution_count": 72,
      "outputs": []
    },
    {
      "cell_type": "code",
      "source": [
        "home_team.x"
      ],
      "metadata": {
        "colab": {
          "base_uri": "https://localhost:8080/"
        },
        "id": "6D4-OdeYqe85",
        "outputId": "ffdd5e6a-b322-4db8-9fad-dae7d5221e22"
      },
      "execution_count": 79,
      "outputs": [
        {
          "output_type": "execute_result",
          "data": {
            "text/plain": [
              "Column<'x'>"
            ]
          },
          "metadata": {},
          "execution_count": 79
        }
      ]
    },
    {
      "cell_type": "code",
      "source": [
        "from pyspark.sql.functions import col"
      ],
      "metadata": {
        "id": "vzv2Oiq8r_6L"
      },
      "execution_count": 88,
      "outputs": []
    },
    {
      "cell_type": "code",
      "source": [
        "fig, ax = generate_field()\n",
        "\n",
        "spark_home = home_team.select(['x', 'y'])\n",
        "pandas_home = spark_home.toPandas()\n",
        "spark_away = away_team.select(['x', 'y'])\n",
        "pandas_away = spark_away.toPandas()\n",
        "spark_football = football.select(['x', 'y'])\n",
        "pandas_football = spark_football.toPandas()\n",
        "\n",
        "# visualize positions with scatter plot \n",
        "ax.plot(pandas_home['x'], pandas_home['y'], 'bo')\n",
        "ax.plot(pandas_away['x'], pandas_away['y'], 'ro')\n",
        "ax.plot(pandas_football['x'], pandas_football['y'], 'yo')\n",
        "\n"
      ],
      "metadata": {
        "colab": {
          "base_uri": "https://localhost:8080/",
          "height": 338
        },
        "id": "TeiQTLIilgtI",
        "outputId": "90d635cf-8114-47dd-c29f-ffc9b4081c8f"
      },
      "execution_count": 92,
      "outputs": [
        {
          "output_type": "execute_result",
          "data": {
            "text/plain": [
              "[<matplotlib.lines.Line2D at 0x7ff1c86af810>]"
            ]
          },
          "metadata": {},
          "execution_count": 92
        },
        {
          "output_type": "display_data",
          "data": {
            "text/plain": [
              "<Figure size 864x383.76 with 1 Axes>"
            ],
            "image/png": "[encoded data removed]"
          },
          "metadata": {
            "needs_background": "light"
          }
        }
      ]
    },
    {
      "cell_type": "markdown",
      "source": [
        "# Draw the Play in Function"
      ],
      "metadata": {
        "id": "tkab8WxcqM-V"
      }
    },
    {
      "cell_type": "code",
      "source": [
        "def draw_play(game_id, play_id, frame):\n",
        "    # query tracking data for the home team\n",
        "    home_team = spark.sql(f\"SELECT * FROM nfl WHERE gameId = {game_id} and playId = {play_id} and frameId = {frame} and advantage = True ORDER BY time ASC\")\n",
        "\n",
        "    away_team = spark.sql(f\"SELECT * FROM nfl WHERE gameId = {game_id} and playId = {play_id} and frameId = {frame} and advantage = False and team != 'football' ORDER BY time ASC\")\n",
        "\n",
        "    football = spark.sql(f\"SELECT * FROM nfl WHERE gameId = {game_id} and playId = {play_id} and frameId = {frame} and team = 'football' ORDER BY time ASC\")\n",
        "\n",
        "    total_frames = spark.sql(f\"SELECT MAX(frameId) FROM nfl WHERE gameId = {game_id} and playId = {play_id}\")\n",
        "\n",
        "    # Convert to pandas for plotting\n",
        "    spark_home = home_team.select(['x', 'y'])\n",
        "    pandas_home = spark_home.toPandas()\n",
        "\n",
        "    spark_away = away_team.select(['x', 'y'])\n",
        "    pandas_away = spark_away.toPandas()\n",
        "\n",
        "    spark_football = football.select(['x', 'y'])\n",
        "    pandas_football = spark_football.toPandas()\n",
        "\n",
        "    # visualize positions with scatter plot \n",
        "    ax.plot(pandas_home['x'], pandas_home['y'], 'bo')\n",
        "    ax.plot(pandas_away['x'], pandas_away['y'], 'ro')\n",
        "    ax.plot(pandas_football['x'], pandas_football['y'], 'yo')"
      ],
      "metadata": {
        "id": "dFkCLeJaujAE"
      },
      "execution_count": 117,
      "outputs": []
    },
    {
      "cell_type": "code",
      "source": [
        "def total_frames(game_id, play_id):\n",
        "    tf = spark.sql(f\"SELECT MAX(frameId) FROM nfl WHERE gameId = {game_id} and playId = {play_id}\")\n",
        "    pd_tf = tf.toPandas()\n",
        "    return pd_tf['max(frameId)'][0]"
      ],
      "metadata": {
        "id": "4JMHL2eX-TJh"
      },
      "execution_count": 150,
      "outputs": []
    },
    {
      "cell_type": "code",
      "source": [
        "total_frames(game_id=2021092300, play_id=54)"
      ],
      "metadata": {
        "colab": {
          "base_uri": "https://localhost:8080/"
        },
        "id": "tpBkivdR-tmp",
        "outputId": "b491516e-b4c8-4baf-c5da-304812d1acda"
      },
      "execution_count": 151,
      "outputs": [
        {
          "output_type": "execute_result",
          "data": {
            "text/plain": [
              "31"
            ]
          },
          "metadata": {},
          "execution_count": 151
        }
      ]
    },
    {
      "cell_type": "markdown",
      "source": [
        "# Animate"
      ],
      "metadata": {
        "id": "FyVR8Q3P3Prk"
      }
    },
    {
      "cell_type": "code",
      "source": [
        "fig, ax = generate_field()\n",
        "\n",
        "def update_plot(l):\n",
        "    draw_play(game_id=2021092300,\n",
        "              play_id=54,\n",
        "              frame=1)\n",
        "    \n",
        "anim = FuncAnimation(fig, update_plot, frames=31, interval=1)\n",
        "fig.set_figheight(8)\n",
        "fig.set_figwidth(14)\n",
        "plt.show()"
      ],
      "metadata": {
        "colab": {
          "base_uri": "https://localhost:8080/",
          "height": 466
        },
        "id": "oftIsV3C3ZWL",
        "outputId": "fb291e9d-f854-49ab-d3ba-193da34756b8"
      },
      "execution_count": 161,
      "outputs": [
        {
          "output_type": "display_data",
          "data": {
            "text/plain": [
              "<Figure size 1008x576 with 1 Axes>"
            ],
            "image/png": "[encoded data removed]"
          },
          "metadata": {
            "needs_background": "light"
          }
        }
      ]
    },
    {
      "cell_type": "code",
      "source": [],
      "metadata": {
        "id": "V6x-1SXU-AqO"
      },
      "execution_count": null,
      "outputs": []
    }
  ]
}